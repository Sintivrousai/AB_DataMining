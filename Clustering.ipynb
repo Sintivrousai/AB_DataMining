{
 "cells": [
  {
   "cell_type": "code",
   "execution_count": 6,
   "id": "f77ed897-b493-4307-892a-3917336be434",
   "metadata": {},
   "outputs": [],
   "source": [
    "import pandas as pd\n",
    "import numpy as np\n",
    "import seaborn as sns\n",
    "import matplotlib.pyplot as plt\n",
    "from sklearn.decomposition import PCA\n",
    "from sklearn.preprocessing import StandardScaler\n",
    "from sklearn.model_selection import train_test_split\n",
    "from sklearn.ensemble import RandomForestRegressor, RandomForestClassifier\n",
    "from sklearn.metrics import mean_squared_error, accuracy_score\n",
    "from sklearn.cluster import KMeans\n",
    "\n",
    "file_path = 'cleaning_notebook/AB_cleaned_formatted.xlsx'\n",
    "sheet_name = 'Sheet1'\n",
    "\n",
    "df = pd.read_excel(file_path, sheet_name=sheet_name)"
   ]
  },
  {
   "cell_type": "code",
   "execution_count": 7,
   "id": "a542f9c0-f940-411e-87b1-d3525751e82a",
   "metadata": {},
   "outputs": [
    {
     "name": "stdout",
     "output_type": "stream",
     "text": [
      "   avg_monthly_revenue # of check-outs  SQM Ranges     WI\n",
      "0            75,634.10               2           0  96.90\n",
      "1           129,646.78               3           0  99.70\n",
      "2           116,868.54               2           0 139.10\n",
      "3           250,554.33               4           0 125.10\n",
      "4           183,505.57               3           0 134.50\n"
     ]
    }
   ],
   "source": [
    "# Define the list of columns you want to cluster\n",
    "columns_to_cluster = ['avg_monthly_revenue', '# of check-outs', 'SQM Ranges', 'WI']\n",
    "\n",
    "# Extract only these columns into a new DataFrame\n",
    "data_for_clustering = df[columns_to_cluster]\n",
    "\n",
    "# Print the first few rows to confirm\n",
    "print(data_for_clustering.head())"
   ]
  },
  {
   "cell_type": "code",
   "execution_count": 11,
   "id": "e08283c2-ed6b-47b7-bf5e-c779cf3c6edd",
   "metadata": {},
   "outputs": [
    {
     "name": "stderr",
     "output_type": "stream",
     "text": [
      "C:\\Users\\sindi\\AppData\\Local\\Temp\\ipykernel_3392\\3855864715.py:4: FutureWarning: Downcasting behavior in `replace` is deprecated and will be removed in a future version. To retain the old behavior, explicitly call `result.infer_objects(copy=False)`. To opt-in to the future behavior, set `pd.set_option('future.no_silent_downcasting', True)`\n",
      "  data = data.replace(\"Empty\", 0)\n"
     ]
    }
   ],
   "source": [
    "columns_to_cluster = ['avg_monthly_revenue', '# of check-outs', 'SQM Ranges', 'WI']\n",
    "data = df[columns_to_cluster]\n",
    "\n",
    "data = data.replace(\"Empty\", 0)\n",
    "\n",
    "# Explicitly infer the object types (optional if types need adjustment)\n",
    "data = data.infer_objects()\n",
    "\n",
    "# Alternatively, ensure all numeric columns are properly typed\n",
    "data = data.astype(float)  # Or another type, depending on the context\n",
    "\n",
    "# Step 1: Standardize the data (important for k-means)\n",
    "scaler = StandardScaler()\n",
    "data_scaled = scaler.fit_transform(data)\n"
   ]
  },
  {
   "cell_type": "code",
   "execution_count": 14,
   "id": "d479acda-e752-44aa-9efc-b1653e0aeb0d",
   "metadata": {},
   "outputs": [
    {
     "name": "stdout",
     "output_type": "stream",
     "text": [
      "         avg_monthly_revenue  # of check-outs  SQM Ranges     WI\n",
      "Cluster                                                         \n",
      "0                 215,194.76             3.32        1.29 116.67\n",
      "1                 661,426.37             8.11        6.31 119.68\n",
      "2                 370,609.09             4.84        3.54  98.36\n",
      "3               1,794,890.66            19.17        8.00 140.02\n",
      "\n",
      "Cluster Sizes:\n",
      "Cluster\n",
      "2    154\n",
      "0     95\n",
      "1     64\n",
      "3      6\n",
      "Name: count, dtype: int64\n"
     ]
    }
   ],
   "source": [
    "\n",
    "# Step 3: Fit K-means with optimal number of clusters\n",
    "optimal_k = 4  # Replace this with your chosen value from the elbow curve\n",
    "kmeans = KMeans(n_clusters=optimal_k, random_state=42)\n",
    "df['Cluster'] = kmeans.fit_predict(data_scaled)\n",
    "\n",
    "df[columns_to_cluster] = df[columns_to_cluster].apply(pd.to_numeric, errors='coerce')\n",
    "\n",
    "# Step 4: Analyze the results\n",
    "cluster_stats = df.groupby('Cluster')[columns_to_cluster].mean()\n",
    "\n",
    "# Add the size of each cluster to the results\n",
    "cluster_size = df['Cluster'].value_counts()\n",
    "\n",
    "# Print the mean values and cluster sizes\n",
    "print(cluster_stats)\n",
    "print(\"\\nCluster Sizes:\")\n",
    "print(cluster_size)"
   ]
  },
  {
   "cell_type": "code",
   "execution_count": null,
   "id": "40c3ac28-db6d-40e9-84b3-4ebfaec712ea",
   "metadata": {},
   "outputs": [],
   "source": []
  }
 ],
 "metadata": {
  "kernelspec": {
   "display_name": "Python 3 (ipykernel)",
   "language": "python",
   "name": "python3"
  },
  "language_info": {
   "codemirror_mode": {
    "name": "ipython",
    "version": 3
   },
   "file_extension": ".py",
   "mimetype": "text/x-python",
   "name": "python",
   "nbconvert_exporter": "python",
   "pygments_lexer": "ipython3",
   "version": "3.12.2"
  }
 },
 "nbformat": 4,
 "nbformat_minor": 5
}
